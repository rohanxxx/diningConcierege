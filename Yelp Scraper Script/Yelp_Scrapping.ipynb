{
  "nbformat": 4,
  "nbformat_minor": 0,
  "metadata": {
    "colab": {
      "provenance": []
    },
    "kernelspec": {
      "name": "python3",
      "display_name": "Python 3"
    },
    "language_info": {
      "name": "python"
    }
  },
  "cells": [
    {
      "cell_type": "code",
      "source": [
        "import requests\n",
        "import json\n",
        "import datetime\n",
        "\n",
        "api_key = \"HkkbXgecZ_o88llpuTZ3hNvVjQdGyAhyQlJU8N9X9SfX6ZaS4G98q9nFE1B876xxnQnuLFdJXPr2pnsvtdq2krMpE17fskO8bIq6nwh451SAY9YDP2rTZwTxuRwrZXYx\"\n",
        "url = \"https://api.yelp.com/v3/businesses/search\"\n",
        "headers = {\n",
        "    \"Authorization\": f\"Bearer {api_key}\"\n",
        "}\n",
        "\n",
        "cuisine_types = [\"chinese\", \"italian\", \"mexican\", \"indian\", \"japanese\",\"french\",\"thai\"]\n",
        "desired_count = 5000\n",
        "restaurants = []\n",
        "\n",
        "for cuisine in cuisine_types:\n",
        "    offset = 0\n",
        "    limit = 50\n",
        "\n",
        "    while len(restaurants) < desired_count and offset < 1000:  # 1000 results per cuisine\n",
        "        params = {\n",
        "            \"location\": \"Manhattan\",\n",
        "            \"term\": f\"{cuisine} restaurants\",\n",
        "            \"limit\": limit,\n",
        "            \"offset\": offset\n",
        "        }\n",
        "\n",
        "        response = requests.get(url, headers=headers, params=params)\n",
        "        data = response.json()\n",
        "\n",
        "        for restaurant in data[\"businesses\"]:\n",
        "            if restaurant[\"id\"] not in [r[\"Business ID\"] for r in restaurants]:\n",
        "                # Generate a unique timestamp with milliseconds\n",
        "                current_time = datetime.datetime.now()\n",
        "                unique_timestamp = current_time.timestamp() + current_time.microsecond / 1e6\n",
        "                restaurant_data = {\n",
        "                    \"Business ID\": restaurant[\"id\"],\n",
        "                    \"Name\": restaurant[\"name\"],\n",
        "                    \"Address\": restaurant[\"location\"][\"address1\"],\n",
        "                    \"Coordinates\": {\n",
        "                        \"Latitude\": str(restaurant[\"coordinates\"][\"latitude\"]),\n",
        "                        \"Longitude\": str(restaurant[\"coordinates\"][\"longitude\"]),\n",
        "                    },\n",
        "                    \"Number of Reviews\": str(restaurant[\"review_count\"]),\n",
        "                    \"Rating\": str(restaurant[\"rating\"]),\n",
        "                    \"Zip Code\": str(restaurant[\"location\"][\"zip_code\"]),\n",
        "                    'CuisineType': {'S': cuisine},  # Add the cuisine type to the item\n",
        "                    'InsertedAtTimestamp': {'N': str(unique_timestamp)}\n",
        "                }\n",
        "                restaurants.append(restaurant_data)\n",
        "                with open(\"data.json\", 'a') as file:\n",
        "                  file.write('{\"index\": {\"_index\": \"restaurants\", \"_id\": ' + str(restaurant_data['Business ID'] + '}}\\n'))\n",
        "                  file.write('{\"Restaurant\": ' + str(restaurant_data['Business ID']) + ', ' + '\"cuisine\": ' + cuisine + '}\\n')\n",
        "\n",
        "        offset += limit\n",
        "\n",
        "        if len(restaurants) >= desired_count:\n",
        "            break\n",
        "\n",
        "# 'restaurants' list contains 5000 unique restaurants' data\n",
        "\n",
        "# Write the 'restaurants' data to a JSON file\n",
        "with open(\"restaurants_data.json\", \"w\") as json_file:\n",
        "    json.dump(restaurants, json_file, indent=4)\n",
        "\n",
        "\n",
        "\n",
        "print(\"Done\")\n"
      ],
      "metadata": {
        "id": "Fqlj_9odpJlJ",
        "colab": {
          "base_uri": "https://localhost:8080/"
        },
        "outputId": "88c36b88-5cf2-4b46-e023-d8c47a24b825"
      },
      "execution_count": 5,
      "outputs": [
        {
          "output_type": "stream",
          "name": "stdout",
          "text": [
            "Done\n"
          ]
        }
      ]
    }
  ]
}